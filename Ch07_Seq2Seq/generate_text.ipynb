{
 "cells": [
  {
   "cell_type": "code",
   "execution_count": null,
   "metadata": {},
   "outputs": [
    {
     "name": "stdout",
     "output_type": "stream",
     "text": [
      "| 에폭 1 |  반복 1 / 1327 | 시간 0[s] | 퍼플렉서티 9999.44\n",
      "| 에폭 1 |  반복 21 / 1327 | 시간 12[s] | 퍼플렉서티 2696.10\n",
      "| 에폭 1 |  반복 41 / 1327 | 시간 23[s] | 퍼플렉서티 1195.10\n",
      "| 에폭 1 |  반복 61 / 1327 | 시간 32[s] | 퍼플렉서티 941.90\n",
      "| 에폭 1 |  반복 81 / 1327 | 시간 41[s] | 퍼플렉서티 798.44\n",
      "| 에폭 1 |  반복 101 / 1327 | 시간 50[s] | 퍼플렉서티 659.52\n",
      "| 에폭 1 |  반복 121 / 1327 | 시간 60[s] | 퍼플렉서티 638.86\n",
      "| 에폭 1 |  반복 141 / 1327 | 시간 72[s] | 퍼플렉서티 596.45\n",
      "| 에폭 1 |  반복 161 / 1327 | 시간 82[s] | 퍼플렉서티 570.58\n",
      "| 에폭 1 |  반복 181 / 1327 | 시간 90[s] | 퍼플렉서티 567.93\n",
      "| 에폭 1 |  반복 201 / 1327 | 시간 99[s] | 퍼플렉서티 495.15\n",
      "| 에폭 1 |  반복 221 / 1327 | 시간 108[s] | 퍼플렉서티 486.73\n",
      "| 에폭 1 |  반복 241 / 1327 | 시간 118[s] | 퍼플렉서티 437.15\n",
      "| 에폭 1 |  반복 261 / 1327 | 시간 127[s] | 퍼플렉서티 461.18\n",
      "| 에폭 1 |  반복 281 / 1327 | 시간 135[s] | 퍼플렉서티 445.28\n",
      "| 에폭 1 |  반복 301 / 1327 | 시간 144[s] | 퍼플렉서티 390.98\n",
      "| 에폭 1 |  반복 321 / 1327 | 시간 153[s] | 퍼플렉서티 339.86\n",
      "| 에폭 1 |  반복 341 / 1327 | 시간 163[s] | 퍼플렉서티 399.15\n",
      "| 에폭 1 |  반복 361 / 1327 | 시간 174[s] | 퍼플렉서티 396.33\n",
      "| 에폭 1 |  반복 381 / 1327 | 시간 183[s] | 퍼플렉서티 327.81\n",
      "| 에폭 1 |  반복 401 / 1327 | 시간 192[s] | 퍼플렉서티 347.63\n",
      "| 에폭 1 |  반복 421 / 1327 | 시간 201[s] | 퍼플렉서티 343.68\n",
      "| 에폭 1 |  반복 441 / 1327 | 시간 211[s] | 퍼플렉서티 322.83\n",
      "| 에폭 1 |  반복 461 / 1327 | 시간 222[s] | 퍼플렉서티 327.12\n",
      "| 에폭 1 |  반복 481 / 1327 | 시간 231[s] | 퍼플렉서티 304.99\n",
      "| 에폭 1 |  반복 501 / 1327 | 시간 240[s] | 퍼플렉서티 316.25\n",
      "| 에폭 1 |  반복 521 / 1327 | 시간 249[s] | 퍼플렉서티 296.56\n",
      "| 에폭 1 |  반복 541 / 1327 | 시간 259[s] | 퍼플렉서티 314.97\n",
      "| 에폭 1 |  반복 561 / 1327 | 시간 272[s] | 퍼플렉서티 285.56\n"
     ]
    }
   ],
   "source": [
    "# coding: utf-8\n",
    "import sys\n",
    "#sys.path.append('..')\n",
    "from rnnlm_gen import RnnlmGen\n",
    "from dataset import ptb\n",
    "\n",
    "\n",
    "corpus, word_to_id, id_to_word = ptb.load_data('train')\n",
    "vocab_size = len(word_to_id)\n",
    "corpus_size = len(corpus)\n",
    "\n",
    "model = RnnlmGen()\n",
    "model.load_params('../Rnnlm.pkl')\n",
    "\n",
    "# start 문자와 skip 문자 설정\n",
    "start_word = 'you'\n",
    "start_id = word_to_id[start_word]\n",
    "skip_words = ['N', '<unk>', '$']\n",
    "skip_ids = [word_to_id[w] for w in skip_words]\n",
    "# 문장 생성\n",
    "word_ids = model.generate(start_id, skip_ids)\n",
    "txt = ' '.join([id_to_word[i] for i in word_ids])\n",
    "txt = txt.replace(' <eos>', '.\\n')\n",
    "print(txt)"
   ]
  }
 ],
 "metadata": {
  "kernelspec": {
   "display_name": "Python 3",
   "language": "python",
   "name": "python3"
  },
  "language_info": {
   "codemirror_mode": {
    "name": "ipython",
    "version": 3
   },
   "file_extension": ".py",
   "mimetype": "text/x-python",
   "name": "python",
   "nbconvert_exporter": "python",
   "pygments_lexer": "ipython3",
   "version": "3.7.4"
  }
 },
 "nbformat": 4,
 "nbformat_minor": 2
}
