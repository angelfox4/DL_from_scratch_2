{
 "cells": [
  {
   "cell_type": "code",
   "execution_count": 1,
   "metadata": {},
   "outputs": [],
   "source": [
    "import sys\n",
    "sys.path.append('..')\n",
    "import matplotlib.pyplot as plt\n",
    "import numpy as np\n",
    "from common.optimizer import SGD\n",
    "from dataset import ptb\n",
    "from simple_rnnlm import SimpleRnnlm\n"
   ]
  },
  {
   "cell_type": "markdown",
   "metadata": {},
   "source": [
    "## 하이퍼파라미터 설정"
   ]
  },
  {
   "cell_type": "code",
   "execution_count": 2,
   "metadata": {},
   "outputs": [],
   "source": [
    "batch_size = 10\n",
    "wordvec_size = 100\n",
    "hidden_size = 100 # RNN의 은닉 상태 벡터의 원소 수\n",
    "time_size = 5     # Truncated BPTT가 한 번에 펼치는 시간 크기\n",
    "lr = 0.1\n",
    "max_epoch = 100"
   ]
  },
  {
   "cell_type": "markdown",
   "metadata": {},
   "source": [
    "## 학습 데이터 읽기\n",
    "전체 중 1000개만"
   ]
  },
  {
   "cell_type": "code",
   "execution_count": 3,
   "metadata": {},
   "outputs": [],
   "source": [
    "corpus, word_to_id, id_to_word = ptb.load_data('train')\n",
    "corpus_size = 1000"
   ]
  },
  {
   "cell_type": "code",
   "execution_count": 4,
   "metadata": {},
   "outputs": [],
   "source": [
    "corpus = corpus[:corpus_size]\n",
    "vocab_size = int(max(corpus) + 1)"
   ]
  },
  {
   "cell_type": "code",
   "execution_count": 5,
   "metadata": {},
   "outputs": [
    {
     "name": "stdout",
     "output_type": "stream",
     "text": [
      "[ 0  1  2  3  4  5  6  7  8  9 10 11 12 13 14 15 16 17 18 19 20 21 22 23\n",
      " 24 25 26 27 28 29 30 31 32 33 34 35 36 37 38 27 24 39 26 40 41 42 26 43\n",
      " 32 44]\n"
     ]
    }
   ],
   "source": [
    "print(corpus[:50]) #corpus는 vocab의 idx 형태로 존재"
   ]
  },
  {
   "cell_type": "code",
   "execution_count": 6,
   "metadata": {},
   "outputs": [
    {
     "name": "stdout",
     "output_type": "stream",
     "text": [
      "말뭉치 크기: 1000, 어휘 수: 418\n"
     ]
    }
   ],
   "source": [
    "xs = corpus[:-1]  # 입력\n",
    "ts = corpus[1:]   # 출력(정답 레이블), LM이므로 xs에서 한 칸 띄운 것\n",
    "data_size = len(xs)\n",
    "print('말뭉치 크기: %d, 어휘 수: %d' % (corpus_size, vocab_size))"
   ]
  },
  {
   "cell_type": "code",
   "execution_count": 7,
   "metadata": {},
   "outputs": [
    {
     "name": "stdout",
     "output_type": "stream",
     "text": [
      "[ 0  1  2  3  4  5  6  7  8  9 10 11 12 13 14 15 16 17 18 19 20 21 22 23\n",
      " 24 25 26 27 28 29 30 31 32 33 34 35 36 37 38 27 24 39 26 40 41 42 26 43\n",
      " 32 44]\n"
     ]
    }
   ],
   "source": [
    "print(xs[:50])"
   ]
  },
  {
   "cell_type": "code",
   "execution_count": 8,
   "metadata": {},
   "outputs": [
    {
     "name": "stdout",
     "output_type": "stream",
     "text": [
      "[ 1  2  3  4  5  6  7  8  9 10 11 12 13 14 15 16 17 18 19 20 21 22 23 24\n",
      " 25 26 27 28 29 30 31 32 33 34 35 36 37 38 27 24 39 26 40 41 42 26 43 32\n",
      " 44 45]\n"
     ]
    }
   ],
   "source": [
    "print(ts[:50])"
   ]
  },
  {
   "cell_type": "markdown",
   "metadata": {},
   "source": [
    "## 학습 시 사용하는 변수"
   ]
  },
  {
   "cell_type": "code",
   "execution_count": 9,
   "metadata": {},
   "outputs": [],
   "source": [
    "max_iters = data_size // (batch_size * time_size)\n",
    "time_idx = 0\n",
    "total_loss = 0\n",
    "loss_count = 0\n",
    "ppl_list = []"
   ]
  },
  {
   "cell_type": "markdown",
   "metadata": {},
   "source": [
    "## 모델 생성"
   ]
  },
  {
   "cell_type": "code",
   "execution_count": 10,
   "metadata": {},
   "outputs": [],
   "source": [
    "model = SimpleRnnlm(vocab_size, wordvec_size, hidden_size)\n",
    "optimizer = SGD(lr)"
   ]
  },
  {
   "cell_type": "markdown",
   "metadata": {},
   "source": [
    "## 미니배치의 각 샘플의 읽기 시작 위치를 계산"
   ]
  },
  {
   "cell_type": "code",
   "execution_count": 11,
   "metadata": {},
   "outputs": [],
   "source": [
    "jump = (corpus_size - 1) // batch_size\n",
    "offsets = [i * jump for i in range(batch_size)]"
   ]
  },
  {
   "cell_type": "code",
   "execution_count": 12,
   "metadata": {},
   "outputs": [
    {
     "name": "stdout",
     "output_type": "stream",
     "text": [
      "[0, 99, 198, 297, 396, 495, 594, 693, 792, 891]\n"
     ]
    }
   ],
   "source": [
    "print(offsets)"
   ]
  },
  {
   "cell_type": "code",
   "execution_count": 13,
   "metadata": {},
   "outputs": [],
   "source": [
    "for epoch in range(max_epoch):\n",
    "    for iter in range(max_iters):\n",
    "        # 미니배치 취득\n",
    "        batch_x = np.empty((batch_size, time_size), dtype='i')\n",
    "        batch_t = np.empty((batch_size, time_size), dtype='i')\n",
    "        for t in range(time_size):\n",
    "            for i, offset in enumerate(offsets):\n",
    "                batch_x[i, t] = xs[(offset + time_idx) % data_size]\n",
    "                batch_t[i, t] = ts[(offset + time_idx) % data_size]\n",
    "            time_idx += 1"
   ]
  },
  {
   "cell_type": "code",
   "execution_count": 18,
   "metadata": {},
   "outputs": [
    {
     "name": "stdout",
     "output_type": "stream",
     "text": [
      "[[ 26 243 108 244 172]\n",
      " [275 278 276  42  26]\n",
      " [119 142 306  93 307]\n",
      " [ 27 181  32 351 352]\n",
      " [229 307  64 220  35]\n",
      " [  0   1   2   3   4]\n",
      " [ 42  76  77  64  78]\n",
      " [ 26  26  98  56  40]\n",
      " [ 24  32  26 175  98]\n",
      " [208 209  80 197  32]]\n"
     ]
    }
   ],
   "source": [
    "print(batch_x)"
   ]
  },
  {
   "cell_type": "markdown",
   "metadata": {},
   "source": [
    "## Model을 시작하기에 앞서 각 계층의 결과(행렬) 살펴보기\n",
    "Time embedding input : batch_x (batch_size, T)  \n",
    "Time embedding output : (batch_size, T, word_vec_size)  \n",
    "  \n",
    "TimeRnn input : (batch_size, T, word_vec_size)  \n",
    "TimeRnn output : (batch_size, T, word_vec_size)  \n",
    "  \n",
    "TimeAffine input : (batch_size, T, word_vec_size)  \n",
    "TimeAffine output : rx = x.reshape(N*T, -1)과정을 거쳐서 out.reshape(N, T, -1)  "
   ]
  },
  {
   "cell_type": "code",
   "execution_count": 32,
   "metadata": {},
   "outputs": [
    {
     "name": "stdout",
     "output_type": "stream",
     "text": [
      "(10, 5, 100)\n"
     ]
    }
   ],
   "source": [
    "#Time embedding\n",
    "from common.time_layers import TimeEmbedding\n",
    "\n",
    "V, D, H = vocab_size, wordvec_size, hidden_size\n",
    "rn = np.random.randn\n",
    "embed_W = (rn(V, D) / 100).astype('f')\n",
    "\n",
    "a=TimeEmbedding(embed_W)\n",
    "b=a.forward(batch_x) #TimeEmbedding의 output은 (batch_size, T, word_vec_size)\n",
    "print(b.shape)"
   ]
  },
  {
   "cell_type": "markdown",
   "metadata": {},
   "source": [
    "## Model 학습"
   ]
  },
  {
   "cell_type": "code",
   "execution_count": 32,
   "metadata": {},
   "outputs": [
    {
     "name": "stdout",
     "output_type": "stream",
     "text": [
      "| 에폭 1 | 퍼플렉서티 366.88\n",
      "| 에폭 2 | 퍼플렉서티 243.38\n",
      "| 에폭 3 | 퍼플렉서티 219.80\n",
      "| 에폭 4 | 퍼플렉서티 207.08\n",
      "| 에폭 5 | 퍼플렉서티 204.84\n",
      "| 에폭 6 | 퍼플렉서티 197.74\n",
      "| 에폭 7 | 퍼플렉서티 199.39\n",
      "| 에폭 8 | 퍼플렉서티 196.02\n",
      "| 에폭 9 | 퍼플렉서티 194.29\n",
      "| 에폭 10 | 퍼플렉서티 191.21\n",
      "| 에폭 11 | 퍼플렉서티 188.64\n",
      "| 에폭 12 | 퍼플렉서티 194.92\n",
      "| 에폭 13 | 퍼플렉서티 188.35\n",
      "| 에폭 14 | 퍼플렉서티 189.65\n",
      "| 에폭 15 | 퍼플렉서티 187.66\n",
      "| 에폭 16 | 퍼플렉서티 189.77\n",
      "| 에폭 17 | 퍼플렉서티 186.41\n",
      "| 에폭 18 | 퍼플렉서티 183.53\n",
      "| 에폭 19 | 퍼플렉서티 182.25\n",
      "| 에폭 20 | 퍼플렉서티 178.10\n",
      "| 에폭 21 | 퍼플렉서티 178.25\n",
      "| 에폭 22 | 퍼플렉서티 180.73\n",
      "| 에폭 23 | 퍼플렉서티 178.17\n",
      "| 에폭 24 | 퍼플렉서티 171.56\n",
      "| 에폭 25 | 퍼플렉서티 171.33\n",
      "| 에폭 26 | 퍼플렉서티 169.12\n",
      "| 에폭 27 | 퍼플렉서티 165.63\n",
      "| 에폭 28 | 퍼플렉서티 164.77\n",
      "| 에폭 29 | 퍼플렉서티 160.24\n",
      "| 에폭 30 | 퍼플렉서티 153.26\n",
      "| 에폭 31 | 퍼플렉서티 151.75\n",
      "| 에폭 32 | 퍼플렉서티 152.83\n",
      "| 에폭 33 | 퍼플렉서티 148.04\n",
      "| 에폭 34 | 퍼플렉서티 142.76\n",
      "| 에폭 35 | 퍼플렉서티 138.25\n",
      "| 에폭 36 | 퍼플렉서티 136.15\n",
      "| 에폭 37 | 퍼플렉서티 130.73\n",
      "| 에폭 38 | 퍼플렉서티 124.30\n",
      "| 에폭 39 | 퍼플렉서티 123.24\n",
      "| 에폭 40 | 퍼플렉서티 116.60\n",
      "| 에폭 41 | 퍼플렉서티 110.56\n",
      "| 에폭 42 | 퍼플렉서티 111.26\n",
      "| 에폭 43 | 퍼플렉서티 105.37\n",
      "| 에폭 44 | 퍼플렉서티 98.60\n",
      "| 에폭 45 | 퍼플렉서티 95.33\n",
      "| 에폭 46 | 퍼플렉서티 91.35\n",
      "| 에폭 47 | 퍼플렉서티 86.42\n",
      "| 에폭 48 | 퍼플렉서티 83.24\n",
      "| 에폭 49 | 퍼플렉서티 77.91\n",
      "| 에폭 50 | 퍼플렉서티 74.19\n",
      "| 에폭 51 | 퍼플렉서티 72.48\n",
      "| 에폭 52 | 퍼플렉서티 69.51\n",
      "| 에폭 53 | 퍼플렉서티 65.21\n",
      "| 에폭 54 | 퍼플렉서티 61.86\n",
      "| 에폭 55 | 퍼플렉서티 57.86\n",
      "| 에폭 56 | 퍼플렉서티 55.56\n",
      "| 에폭 57 | 퍼플렉서티 52.97\n",
      "| 에폭 58 | 퍼플렉서티 51.02\n",
      "| 에폭 59 | 퍼플렉서티 45.64\n",
      "| 에폭 60 | 퍼플렉서티 44.63\n",
      "| 에폭 61 | 퍼플렉서티 40.97\n",
      "| 에폭 62 | 퍼플렉서티 41.41\n",
      "| 에폭 63 | 퍼플렉서티 38.80\n",
      "| 에폭 64 | 퍼플렉서티 36.16\n",
      "| 에폭 65 | 퍼플렉서티 33.36\n",
      "| 에폭 66 | 퍼플렉서티 32.80\n",
      "| 에폭 67 | 퍼플렉서티 31.44\n",
      "| 에폭 68 | 퍼플렉서티 28.69\n",
      "| 에폭 69 | 퍼플렉서티 27.23\n",
      "| 에폭 70 | 퍼플렉서티 24.89\n",
      "| 에폭 71 | 퍼플렉서티 23.54\n",
      "| 에폭 72 | 퍼플렉서티 22.85\n",
      "| 에폭 73 | 퍼플렉서티 22.47\n",
      "| 에폭 74 | 퍼플렉서티 20.35\n",
      "| 에폭 75 | 퍼플렉서티 18.66\n",
      "| 에폭 76 | 퍼플렉서티 17.97\n",
      "| 에폭 77 | 퍼플렉서티 17.63\n",
      "| 에폭 78 | 퍼플렉서티 17.38\n",
      "| 에폭 79 | 퍼플렉서티 15.29\n",
      "| 에폭 80 | 퍼플렉서티 14.54\n",
      "| 에폭 81 | 퍼플렉서티 14.06\n",
      "| 에폭 82 | 퍼플렉서티 13.17\n",
      "| 에폭 83 | 퍼플렉서티 12.86\n",
      "| 에폭 84 | 퍼플렉서티 12.06\n",
      "| 에폭 85 | 퍼플렉서티 12.20\n",
      "| 에폭 86 | 퍼플렉서티 10.94\n",
      "| 에폭 87 | 퍼플렉서티 10.15\n",
      "| 에폭 88 | 퍼플렉서티 9.92\n",
      "| 에폭 89 | 퍼플렉서티 9.29\n",
      "| 에폭 90 | 퍼플렉서티 9.41\n",
      "| 에폭 91 | 퍼플렉서티 8.83\n",
      "| 에폭 92 | 퍼플렉서티 8.19\n",
      "| 에폭 93 | 퍼플렉서티 8.34\n",
      "| 에폭 94 | 퍼플렉서티 7.78\n",
      "| 에폭 95 | 퍼플렉서티 7.19\n",
      "| 에폭 96 | 퍼플렉서티 6.99\n",
      "| 에폭 97 | 퍼플렉서티 6.71\n",
      "| 에폭 98 | 퍼플렉서티 6.20\n",
      "| 에폭 99 | 퍼플렉서티 6.68\n",
      "| 에폭 100 | 퍼플렉서티 5.92\n"
     ]
    }
   ],
   "source": [
    "for epoch in range(max_epoch):\n",
    "    for iter in range(max_iters):\n",
    "        # 미니배치 취득\n",
    "        batch_x = np.empty((batch_size, time_size), dtype='i')\n",
    "        batch_t = np.empty((batch_size, time_size), dtype='i')\n",
    "        for t in range(time_size):\n",
    "            for i, offset in enumerate(offsets):\n",
    "                batch_x[i, t] = xs[(offset + time_idx) % data_size]\n",
    "                batch_t[i, t] = ts[(offset + time_idx) % data_size]\n",
    "            time_idx += 1\n",
    "\n",
    "        # 기울기를 구하여 매개변수 갱신\n",
    "        loss = model.forward(batch_x, batch_t)\n",
    "        model.backward()\n",
    "        optimizer.update(model.params, model.grads)\n",
    "        total_loss += loss\n",
    "        loss_count += 1\n",
    "\n",
    "    # 에폭마다 퍼플렉서티 평가\n",
    "    ppl = np.exp(total_loss / loss_count)\n",
    "    print('| 에폭 %d | 퍼플렉서티 %.2f'\n",
    "          % (epoch+1, ppl))\n",
    "    ppl_list.append(float(ppl))\n",
    "    total_loss, loss_count = 0, 0"
   ]
  },
  {
   "cell_type": "markdown",
   "metadata": {},
   "source": [
    "## 그래프 그리기"
   ]
  },
  {
   "cell_type": "code",
   "execution_count": 33,
   "metadata": {},
   "outputs": [
    {
     "data": {
      "image/png": "[encoded data removed]",
      "text/plain": [
       "<Figure size 432x288 with 1 Axes>"
      ]
     },
     "metadata": {
      "needs_background": "light"
     },
     "output_type": "display_data"
    }
   ],
   "source": [
    "# 그래프 그리기\n",
    "x = np.arange(len(ppl_list))\n",
    "plt.plot(x, ppl_list, label='train')\n",
    "plt.xlabel('epochs')\n",
    "plt.ylabel('perplexity')\n",
    "plt.show()\n"
   ]
  },
  {
   "cell_type": "code",
   "execution_count": null,
   "metadata": {},
   "outputs": [],
   "source": []
  }
 ],
 "metadata": {
  "kernelspec": {
   "display_name": "Python 3",
   "language": "python",
   "name": "python3"
  },
  "language_info": {
   "codemirror_mode": {
    "name": "ipython",
    "version": 3
   },
   "file_extension": ".py",
   "mimetype": "text/x-python",
   "name": "python",
   "nbconvert_exporter": "python",
   "pygments_lexer": "ipython3",
   "version": "3.7.7"
  }
 },
 "nbformat": 4,
 "nbformat_minor": 4
}
